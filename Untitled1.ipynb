{
 "cells": [
  {
   "cell_type": "code",
   "execution_count": 1,
   "metadata": {
    "collapsed": true
   },
   "outputs": [],
   "source": [
    "import csv\n",
    "import cv2\n",
    "import numpy as np\n",
    "import random\n",
    "correction=0.25\n",
    "lines=[]\n",
    "\n",
    "from sklearn.utils import shuffle\n",
    "\n",
    "def my_resize(input):\n",
    "    from keras.backend import tf as ktf\n",
    "    return ktf.image.resize_images(input, (64,64))\n",
    "\n",
    "with open('./data//driving_log.csv') as csvfile:\n",
    "    reader=csv.reader(csvfile)\n",
    "    next(reader)\n",
    "    for line in reader:\n",
    "        lines.append(line)\n",
    "\n",
    "nrows=len(lines)"
   ]
  },
  {
   "cell_type": "code",
   "execution_count": 2,
   "metadata": {
    "collapsed": true
   },
   "outputs": [],
   "source": [
    "def my_resize(input):\n",
    "    from keras.backend import tf as ktf\n",
    "    return ktf.image.resize_images(input, (64,64))\n",
    "\n",
    "with open('./data//driving_log.csv') as csvfile:\n",
    "    reader=csv.reader(csvfile)\n",
    "    next(reader)\n",
    "    for line in reader:\n",
    "        lines.append(line)\n",
    "\n",
    "nrows=len(lines)"
   ]
  },
  {
   "cell_type": "code",
   "execution_count": null,
   "metadata": {
    "collapsed": true
   },
   "outputs": [],
   "source": []
  },
  {
   "cell_type": "code",
   "execution_count": 3,
   "metadata": {
    "collapsed": true
   },
   "outputs": [],
   "source": [
    "def generator(samples, batch_size):\n",
    "    num_samples = len(samples)\n",
    "    while 1: # Loop forever so the generator never terminates\n",
    "        shuffle(samples)\n",
    "        for offset in range(0, num_samples, batch_size):\n",
    "            batch_samples = samples[offset:offset+batch_size]\n",
    "            images = []\n",
    "            measurements = []\n",
    "            for batch_sample in batch_samples:\n",
    "                for j in range(3):\n",
    "                    source_path = batch_sample[j].strip()#.split('/')[-1]\n",
    "                    filename = source_path.split('/')[-1]\n",
    "                    local_path = 'data/IMG/' + filename\n",
    "                    image = cv2.imread(local_path)\n",
    "                    image = cv2.cvtColor(image,cv2.COLOR_BGR2RGB)\n",
    "                    images.append(image)\n",
    "                correction = 0.25\n",
    "                measurement = float(batch_sample[3])\n",
    "                measurements.append(measurement)\n",
    "                measurements.append(measurement + correction)\n",
    "                measurements.append(measurement - correction)\n",
    "\n",
    "            augmented_images = []\n",
    "            augmented_measurements = []\n",
    "        # augment data with flipped version of images and angles\n",
    "            for image, measurement in zip(images, measurements):\n",
    "                if abs(measurement)>0.8:\n",
    "                    augmented_images.append(image)\n",
    "                    augmented_measurements.append(measurement)\n",
    "                    augmented_images.append(cv2.flip(image,1))\n",
    "                    augmented_measurements.append(measurement*-1.0)\n",
    "                else:\n",
    "                    if random.uniform(0, 1)>0.7:\n",
    "                        augmented_images.append(image)\n",
    "                        augmented_measurements.append(measurement)\n",
    "                        augmented_images.append(cv2.flip(image,1))\n",
    "                        augmented_measurements.append(measurement*-1.0)\n",
    "\n",
    "            X_train = np.array(augmented_images)\n",
    "            y_train = np.array(augmented_measurements)\n",
    "            #yield shuffle(X_train, y_train)\n",
    "            yield (X_train, y_train)"
   ]
  },
  {
   "cell_type": "code",
   "execution_count": 4,
   "metadata": {},
   "outputs": [
    {
     "name": "stdout",
     "output_type": "stream",
     "text": [
      "(84, 160, 320, 3) (84,)\n",
      "(50, 160, 320, 3) (50,)\n",
      "(64, 160, 320, 3) (64,)\n"
     ]
    }
   ],
   "source": [
    "num_training_lines = int(0.8*nrows)\n",
    "batch_size=32\n",
    "BATCH_SIZE=32\n",
    "training_lines = lines[0:num_training_lines-1]\n",
    "validation_lines = lines[num_training_lines:]\n",
    "\n",
    "train_generator = generator(training_lines,batch_size)\n",
    "validation_generator = generator(validation_lines, batch_size)"
   ]
  },
  {
   "cell_type": "code",
   "execution_count": null,
   "metadata": {
    "collapsed": true
   },
   "outputs": [],
   "source": [
    "num_training_lines = int(0.8*nrows)\n",
    "batch_size=32\n",
    "BATCH_SIZE=32\n",
    "training_lines = lines[0:num_training_lines-1]\n",
    "validation_lines = lines[num_training_lines:]\n",
    "\n",
    "train_generator = generator(training_lines,batch_size)\n",
    "validation_generator = generator(validation_lines, batch_size)"
   ]
  }
 ],
 "metadata": {
  "kernelspec": {
   "display_name": "Python 3",
   "language": "python",
   "name": "python3"
  },
  "language_info": {
   "codemirror_mode": {
    "name": "ipython",
    "version": 3
   },
   "file_extension": ".py",
   "mimetype": "text/x-python",
   "name": "python",
   "nbconvert_exporter": "python",
   "pygments_lexer": "ipython3",
   "version": "3.5.2"
  },
  "widgets": {
   "state": {},
   "version": "1.1.2"
  }
 },
 "nbformat": 4,
 "nbformat_minor": 2
}
